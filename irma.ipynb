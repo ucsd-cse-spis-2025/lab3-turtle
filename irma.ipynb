{
  "nbformat": 4,
  "nbformat_minor": 0,
  "metadata": {
    "colab": {
      "provenance": [],
      "authorship_tag": "ABX9TyN1UbwM6wgMaPDxKns2GDyJ",
      "include_colab_link": true
    },
    "kernelspec": {
      "name": "python3",
      "display_name": "Python 3"
    },
    "language_info": {
      "name": "python"
    }
  },
  "cells": [
    {
      "cell_type": "markdown",
      "metadata": {
        "id": "view-in-github",
        "colab_type": "text"
      },
      "source": [
        "<a href=\"https://colab.research.google.com/github/ucsd-cse-spis-2023/lab03starter/blob/main/irma.ipynb\" target=\"_parent\"><img src=\"https://colab.research.google.com/assets/colab-badge.svg\" alt=\"Open In Colab\"/></a>"
      ]
    },
    {
      "cell_type": "code",
      "execution_count": null,
      "metadata": {
        "id": "TTr7ajdIiWd7"
      },
      "outputs": [],
      "source": [
        "!pip install ColabTurtlePlus"
      ]
    },
    {
      "cell_type": "code",
      "source": [
        "!wget https://raw.githubusercontent.com/ucsd-cse-spis-2023/lab03starter/main/images/atlantic-basin.gif -O /content/atlantic-basin.gif\n",
        "!wget https://raw.githubusercontent.com/ucsd-cse-spis-2023/lab03starter/main/images/hurricane.gif -O /content/hurricane.gif\n",
        "!mkdir /content/data/\n",
        "!wget https://raw.githubusercontent.com/ucsd-cse-spis-2023/lab03starter/main/data/cindy.csv -O /content/data/cindy.csv\n",
        "!wget https://raw.githubusercontent.com/ucsd-cse-spis-2023/lab03starter/main/data/don.csv -O /content/data/don.csv\n",
        "!wget https://raw.githubusercontent.com/ucsd-cse-spis-2023/lab03starter/main/data/emily.csv -O /content/data/emily.csv\n",
        "!wget https://raw.githubusercontent.com/ucsd-cse-spis-2023/lab03starter/main/data/franklin.csv -O /content/data/franklin.csv\n",
        "!wget https://raw.githubusercontent.com/ucsd-cse-spis-2023/lab03starter/main/data/gert.csv -O /content/data/gert.csv\n",
        "!wget https://raw.githubusercontent.com/ucsd-cse-spis-2023/lab03starter/main/data/harvey.csv -O /content/data/harvey.csv\n",
        "!wget https://raw.githubusercontent.com/ucsd-cse-spis-2023/lab03starter/main/data/irma.csv -O /content/data/irma.csv\n",
        "!wget https://raw.githubusercontent.com/ucsd-cse-spis-2023/lab03starter/main/data/jose.csv -O /content/data/jose.csv\n",
        "!wget https://raw.githubusercontent.com/ucsd-cse-spis-2023/lab03starter/main/data/katia.csv -O /content/data/katia.csv\n",
        "!wget https://raw.githubusercontent.com/ucsd-cse-spis-2023/lab03starter/main/data/lee.csv -O /content/data/lee.csv\n",
        "!wget https://raw.githubusercontent.com/ucsd-cse-spis-2023/lab03starter/main/data/maria.csv -O /content/data/maria.csv\n",
        "!wget https://raw.githubusercontent.com/ucsd-cse-spis-2023/lab03starter/main/data/nate.csv -O /content/data/nate.csv\n",
        "!wget https://raw.githubusercontent.com/ucsd-cse-spis-2023/lab03starter/main/data/ophelia.csv -O /content/data/ophelia.csv"
      ],
      "metadata": {
        "id": "bdDZ1hepiXzE"
      },
      "execution_count": null,
      "outputs": []
    },
    {
      "cell_type": "code",
      "source": [
        "from ColabTurtlePlus.Turtle import *\n",
        "from ColabTurtlePlus.Turtle import _Screen\n",
        "import csv"
      ],
      "metadata": {
        "id": "aAgl0M1ZiX18"
      },
      "execution_count": null,
      "outputs": []
    },
    {
      "cell_type": "code",
      "source": [
        "MY_SVG_TEMPLATE = \"\"\"\n",
        "      <svg width=\"{window_width}\" height=\"{window_height}\">\n",
        "        <image width=\"100%\" height=\"100%\" href=\"https://raw.githubusercontent.com/ucsd-cse-spis-2023/lab03starter/main/images/atlantic-basin.gif\"/>\n",
        "        {drawlines}\n",
        "        {stampsB}\n",
        "        {lines}\n",
        "        {dots}\n",
        "        {stampsT}\n",
        "        {turtle}\n",
        "      </svg>\n",
        "    \"\"\"\n",
        "\n",
        "TURTLE_HURRICANE_SVG_TEMPLATE = \"\"\"<g id=\"turtle2\" visibility=\"{visibility}\" transform=\"rotate({degrees},{rotation_x},{rotation_y}) translate({turtle_x}, {turtle_y})\">\n",
        "    <image width=\"40\" height=\"40\" href=\"https://raw.githubusercontent.com/ucsd-cse-spis-2023/lab03starter/main/images/hurricane.gif\"/>\n",
        "    </g>\"\"\"\n",
        "\n",
        "VALID_TURTLE_SHAPES = ('turtle', 'ring', 'classic', 'arrow', 'square', 'triangle', 'circle', 'turtle2', 'hurricane', 'blank')"
      ],
      "metadata": {
        "id": "1zKUMp7niX5p"
      },
      "execution_count": null,
      "outputs": []
    },
    {
      "cell_type": "code",
      "source": [
        "def AtlanticScreen():\n",
        "    \"\"\"Return the singleton screen object.\n",
        "    If none exists at the moment, create a new one and return it,\n",
        "    else return the existing one.\"\"\"\n",
        "    if Turtle._screen is None:\n",
        "        Turtle._screen = _AtlanticScreen()\n",
        "    return Turtle._screen\n",
        "\n",
        "class _AtlanticScreen(_Screen):\n",
        "\n",
        "    def __init__(self):\n",
        "        super().__init__()\n",
        "        self.window_size = (964, 600)\n",
        "        # imitating setworldcoordinates(-90, 0, -17.66, 45):\n",
        "        self.xmin = -90\n",
        "        self.ymin =  0\n",
        "        self.xmax = -17.66\n",
        "        self.ymax = 45\n",
        "        self.xscale = self.window_size[0]/(self.xmax-self.xmin)\n",
        "        self.yscale = self.window_size[1]/(self.ymax-self.ymin)\n",
        "        self._mode = \"world\"\n",
        "\n",
        "    def clear(self):\n",
        "        super().clear()\n",
        "        Turtle._screen = AtlanticScreen()\n",
        "\n",
        "    def _generateOneSvgTurtle(self,turtle):\n",
        "        if turtle.turtle_shape == 'hurricane':\n",
        "            turtle_x = turtle.turtle_pos[0] - 20\n",
        "            turtle_y = turtle.turtle_pos[1] - 20\n",
        "            if self._mode == \"standard\":\n",
        "                degrees = turtle.turtle_degree - turtle.tilt_angle - 90\n",
        "            elif self._mode == \"world\":\n",
        "                degrees = turtle.turtle_orient - turtle.tilt_angle - 90\n",
        "            else:\n",
        "                degrees = turtle.turtle_degree + turtle.tilt_angle - 90\n",
        "            svg = turtle.shapeDict[turtle.turtle_shape].format(\n",
        "                           turtle_color=turtle.fill_color,\n",
        "                           pcolor=turtle.pen_color,\n",
        "                           turtle_x=turtle_x,\n",
        "                           turtle_y=turtle_y,\n",
        "                           visibility='visible',\n",
        "                           degrees=degrees,\n",
        "                           sx=turtle.stretchfactor[0],\n",
        "                           sy=turtle.stretchfactor[1],\n",
        "                           sk=turtle.shear_factor,\n",
        "                           rx=10*turtle.stretchfactor[0],\n",
        "                           ry=10*turtle.stretchfactor[1],\n",
        "                           cy=-(10*turtle.stretchfactor[1]+4),\n",
        "                           pw = turtle.outline_width,\n",
        "                           rotation_x=turtle.turtle_pos[0],\n",
        "                           rotation_y=turtle.turtle_pos[1])\n",
        "        else:\n",
        "          svg = super()._generateOneSvgTurtle(turtle)\n",
        "        return svg\n",
        "\n",
        "    def _generateSvgDrawing(self):\n",
        "        return MY_SVG_TEMPLATE.format(window_width=self.window_size[0],\n",
        "                               window_height=self.window_size[1],\n",
        "                               backcolor=self.background_color,\n",
        "                               fill=self._generateSvgFill(),\n",
        "                               lines=self._generateSvgLines(),\n",
        "                               dots=self._generateSvgDots(),\n",
        "                               stampsB=self._generateSvgStampsB(),\n",
        "                               stampsT=self._generateSvgStampsT(),\n",
        "                               turtle=self._generateTurtlesSvgDrawing(),\n",
        "                               drawlines=self._svg_drawlines_string,\n",
        "                               kolor=self.border_color)\n",
        "\n",
        "class MyRawTurtle(RawTurtle):\n",
        "\n",
        "    def __init__(self, window=None):\n",
        "        super().__init__(window)\n",
        "        self.shapeDict[\"hurricane\"] = TURTLE_HURRICANE_SVG_TEMPLATE\n",
        "\n",
        "class HurricaneTurtle(MyRawTurtle):\n",
        "    _pen = None\n",
        "    _screen = None\n",
        "\n",
        "    def __init__(self):\n",
        "        if Turtle._screen is None:\n",
        "            Turtle._screen = MyScreen()\n",
        "        MyRawTurtle.__init__(self, Turtle._screen)\n",
        "\n",
        "    def shape(self, name=None):\n",
        "        if name is None:\n",
        "            return self.turtle_shape\n",
        "        elif name.lower() not in VALID_TURTLE_SHAPES:\n",
        "            raise ValueError('Shape is invalid. Valid options are: ' + str(VALID_TURTLE_SHAPES))\n",
        "        self.turtle_shape = name.lower()\n",
        "        self.screen._updateDrawing(turtle=self)\n"
      ],
      "metadata": {
        "id": "ie3ngU1aiX8M"
      },
      "execution_count": null,
      "outputs": []
    },
    {
      "cell_type": "code",
      "source": [
        "def irma_setup():\n",
        "    \"\"\"Creates the Turtle and the Screen with the map background\n",
        "       and coordinate system set to match latitude and longitude.\n",
        "\n",
        "       :return: a tuple containing the Turtle and the Screen\n",
        "\n",
        "       DO NOT CHANGE THE CODE IN THIS FUNCTION!\n",
        "    \"\"\"\n",
        "    scr = AtlanticScreen()\n",
        "    scr.clear()\n",
        "    t = HurricaneTurtle()\n",
        "    t.speed(7)\n",
        "    t.shape(\"hurricane\")\n",
        "\n",
        "    return (t, scr)"
      ],
      "metadata": {
        "id": "LbkkxVrkigNE"
      },
      "execution_count": null,
      "outputs": []
    },
    {
      "cell_type": "code",
      "source": [
        "def irma():\n",
        "    \"\"\"Animates the path of hurricane Irma (2017)\n",
        "    \"\"\"\n",
        "    # Do not change this line\n",
        "    # t is the turtle, and you will not need the other variable\n",
        "    (t, scr) = irma_setup()\n",
        "\n",
        "    hurricaneFile = \"/content/data/irma.csv\"\n",
        "    # The line below is a little magical. It opens the file,\n",
        "    # with awareness of any errors that might occur.\n",
        "    with open(hurricaneFile, 'r') as csvfile:\n",
        "        # This line gives you an \"iterator\" you can use to get each line\n",
        "        # in the file.\n",
        "        pointreader = csv.reader(csvfile)\n",
        "\n",
        "        # You'll need to add some code here, before the loop\n",
        "        # One thing you'll need to figure out how to do is to\n",
        "        # skip the first line of the file (which is the header).\n",
        "        # You might use a boolean variable, or you can\n",
        "        # look into Python's built-in next function\n",
        "        #(https://docs.python.org/3/library/functions.html#next)\n",
        "        # pointreader is an iterator\n",
        "\n",
        "        for row in pointreader:\n",
        "            # row is a list representing each line in the csv file\n",
        "            # Each comma separated element is in its own index position\n",
        "            # This code just prints out the date and time elements of each\n",
        "            # row in the file.\n",
        "            # Make sure you understand what is happening here.\n",
        "            # Then, you'll need to change this code\n",
        "            print(\"Date:\", row[0], \"Time:\", row[1])\n"
      ],
      "metadata": {
        "id": "3Lp6Y280ihuc"
      },
      "execution_count": null,
      "outputs": []
    }
  ]
}